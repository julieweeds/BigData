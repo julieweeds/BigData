{
 "cells": [
  {
   "cell_type": "markdown",
   "metadata": {},
   "source": [
    "# 03. Spark-wind-analysis"
   ]
  },
  {
   "cell_type": "code",
   "execution_count": 1,
   "metadata": {},
   "outputs": [],
   "source": [
    "%config IPCompleter.greedy=True"
   ]
  },
  {
   "cell_type": "code",
   "execution_count": 2,
   "metadata": {},
   "outputs": [
    {
     "name": "stdout",
     "output_type": "stream",
     "text": [
      "+----------+--------------------+--------------+----------------+-----------------+---------------------+---------------------------+------------------+-------------------------+----------------------------+\n",
      "|Station_ID|        Station_Name|Location_Label|Interval_Minutes|Interval_End_Time|Wind_Velocity_Mtr_Sec|Wind_Direction_Variance_Deg|Wind_Direction_Deg|Ambient_Temperature_Deg_C|Global_Horizontal_Irradiance|\n",
      "+----------+--------------------+--------------+----------------+-----------------+---------------------+---------------------------+------------------+-------------------------+----------------------------+\n",
      "|      SF15|Warnerville Switc...|   Warnerville|               5| 2015-01-5? 00:05|                1.628|                        8.1|             148.5|                     0.92|                       0.061|\n",
      "|      SF15|Warnerville Switc...|   Warnerville|               5| 2015-01-5? 00:10|                1.519|                        9.4|             151.1|                    0.717|                       0.064|\n",
      "|      SF15|Warnerville Switc...|   Warnerville|               5| 2015-01-5? 00:15|                1.482|                        8.7|             142.7|                    0.627|                       0.059|\n",
      "|      SF15|Warnerville Switc...|   Warnerville|               5| 2015-01-5? 00:20|                1.985|                      6.895|             141.8|                      0.5|                       0.062|\n",
      "|      SF15|Warnerville Switc...|   Warnerville|               5| 2015-01-5? 00:25|                1.903|                       8.64|             144.7|                    0.727|                       0.062|\n",
      "+----------+--------------------+--------------+----------------+-----------------+---------------------+---------------------------+------------------+-------------------------+----------------------------+\n",
      "only showing top 5 rows\n",
      "\n"
     ]
    }
   ],
   "source": [
    "# spark initialisation, needs to be done before later imports\n",
    "import findspark\n",
    "findspark.init()\n",
    "\n",
    "import pyspark\n",
    "sc=pyspark.SparkContext.getOrCreate()\n",
    "sc.setLogLevel('ERROR')\n",
    "\n",
    "#where the data is stored\n",
    "datafiles='*.csv'\n",
    "\n",
    "\n",
    "\n",
    "#initialisation of spark sql session\n",
    "from pyspark.sql import Row, SparkSession\n",
    "spark = SparkSession.builder.getOrCreate()\n",
    "\n",
    "\n",
    "# read the wind data from CSV files\n",
    "df = spark.read.csv(datafiles, header=True)\n",
    "\n",
    "# show the top 5 rows\n",
    "df.show(5)\n",
    "\n"
   ]
  },
  {
   "cell_type": "code",
   "execution_count": 3,
   "metadata": {},
   "outputs": [],
   "source": [
    "winds=df.rdd\n",
    "mapped = winds.map(lambda s: (s.Station_ID, s.Wind_Velocity_Mtr_Sec))\n"
   ]
  },
  {
   "cell_type": "markdown",
   "metadata": {},
   "source": [
    "This code will display any values which are not strings (and count how many are strings)"
   ]
  },
  {
   "cell_type": "code",
   "execution_count": 5,
   "metadata": {},
   "outputs": [
    {
     "name": "stdout",
     "output_type": "stream",
     "text": [
      "SF04 None\n",
      "SF04 None\n",
      "SF04 None\n",
      "SF04 None\n",
      "SF04 None\n",
      "SF04 None\n",
      "SF04 None\n",
      "SF04 None\n",
      "SF04 None\n",
      "SF04 None\n",
      "SF04 None\n",
      "SF04 None\n",
      "SF04 None\n",
      "SF04 None\n",
      "SF04 None\n",
      "SF04 None\n",
      "SF04 None\n",
      "SF04 None\n",
      "SF04 None\n",
      "SF04 None\n",
      "SF04 None\n",
      "SF04 None\n",
      "SF04 None\n",
      "SF04 None\n",
      "SF04 None\n",
      "SF04 None\n",
      "SF04 None\n",
      "SF04 None\n",
      "SF04 None\n",
      "SF04 None\n",
      "SF04 None\n",
      "SF04 None\n",
      "SF04 None\n",
      "SF04 None\n",
      "SF04 None\n",
      "SF04 None\n",
      "SF04 None\n",
      "SF04 None\n",
      "SF04 None\n",
      "SF04 None\n",
      "SF04 None\n",
      "SF04 None\n",
      "SF04 None\n",
      "SF04 None\n",
      "SF04 None\n",
      "SF04 None\n",
      "SF04 None\n",
      "SF04 None\n",
      "SF04 None\n",
      "SF04 None\n",
      "SF04 None\n",
      "SF04 None\n",
      "SF04 None\n",
      "SF04 None\n",
      "SF04 None\n",
      "SF04 None\n",
      "SF04 None\n",
      "SF04 None\n",
      "SF04 None\n",
      "SF04 None\n",
      "SF04 None\n",
      "SF04 None\n",
      "SF04 None\n",
      "SF04 None\n",
      "SF04 None\n",
      "SF04 None\n",
      "SF04 None\n",
      "SF04 None\n",
      "SF04 None\n",
      "SF04 None\n",
      "SF04 None\n",
      "SF04 None\n",
      "SF04 None\n",
      "SF04 None\n",
      "SF04 None\n",
      "SF04 None\n",
      "SF04 None\n",
      "SF04 None\n",
      "SF04 None\n",
      "SF04 None\n",
      "SF04 None\n",
      "SF04 None\n",
      "SF04 None\n",
      "SF04 None\n",
      "SF04 None\n",
      "SF04 None\n",
      "SF04 None\n",
      "SF04 None\n",
      "SF04 None\n",
      "SF04 None\n",
      "SF04 None\n",
      "SF04 None\n",
      "SF04 None\n",
      "SF04 None\n",
      "SF04 None\n",
      "SF04 None\n",
      "SF04 None\n",
      "SF04 None\n",
      "SF04 None\n",
      "SF04 None\n",
      "392589 392689\n"
     ]
    }
   ],
   "source": [
    "count=0\n",
    "total=0\n",
    "for k,v in mapped.collect():\n",
    "    total+=1\n",
    "    if isinstance(v,str):\n",
    "        count+=1\n",
    "    else:\n",
    "        print(k,v)\n",
    "        \n",
    "print(count,total)"
   ]
  },
  {
   "cell_type": "code",
   "execution_count": 6,
   "metadata": {},
   "outputs": [],
   "source": [
    "#filter nulls\n",
    "filtered =mapped.filter(lambda s:s[1]!=None)"
   ]
  },
  {
   "cell_type": "code",
   "execution_count": 7,
   "metadata": {},
   "outputs": [],
   "source": [
    "#clean nulls\n",
    "def clean(value):\n",
    "    try:\n",
    "        return(float(value))\n",
    "    except:\n",
    "        return 0\n",
    "    \n",
    "cleaned = mapped.map(lambda s:(s[0], clean(s[1])))\n",
    "\n"
   ]
  },
  {
   "cell_type": "code",
   "execution_count": null,
   "metadata": {},
   "outputs": [],
   "source": [
    "#count=0\n",
    "#total=0\n",
    "#for k,v in cleaned.collect():\n",
    "#    print(k,v)\n",
    "#    break\n",
    "        \n",
    "#print(count,total)"
   ]
  },
  {
   "cell_type": "code",
   "execution_count": 8,
   "metadata": {},
   "outputs": [],
   "source": [
    "maxes = filtered.reduceByKey(lambda a, b: a if (a>b) else b)"
   ]
  },
  {
   "cell_type": "code",
   "execution_count": 9,
   "metadata": {},
   "outputs": [
    {
     "name": "stdout",
     "output_type": "stream",
     "text": [
      "SF17 5.767\n",
      "SF36 9.71\n",
      "SF04 9.92\n",
      "SF18 9.85\n",
      "SF15 7.92\n",
      "SF37 7.079\n"
     ]
    }
   ],
   "source": [
    "for k,v in maxes.collect():print(k,v)"
   ]
  },
  {
   "cell_type": "code",
   "execution_count": null,
   "metadata": {},
   "outputs": [],
   "source": [
    "\n"
   ]
  },
  {
   "cell_type": "code",
   "execution_count": null,
   "metadata": {},
   "outputs": [],
   "source": []
  },
  {
   "cell_type": "code",
   "execution_count": 10,
   "metadata": {},
   "outputs": [
    {
     "name": "stdout",
     "output_type": "stream",
     "text": [
      "{'SF17': '5.767', 'SF36': '9.71', 'SF04': '9.92', 'SF18': '9.85', 'SF15': '7.92', 'SF37': '7.079'}\n"
     ]
    }
   ],
   "source": [
    "print(maxes.collectAsMap())"
   ]
  },
  {
   "cell_type": "code",
   "execution_count": 11,
   "metadata": {},
   "outputs": [
    {
     "name": "stdout",
     "output_type": "stream",
     "text": [
      "9.92\n"
     ]
    }
   ],
   "source": [
    "print(maxes.collectAsMap()['SF04'])"
   ]
  },
  {
   "cell_type": "markdown",
   "metadata": {},
   "source": [
    "## Part 2\n",
    "Now lets have a go at using SQL rather than MR."
   ]
  },
  {
   "cell_type": "code",
   "execution_count": 12,
   "metadata": {},
   "outputs": [],
   "source": [
    "df.registerTempTable('wind')"
   ]
  },
  {
   "cell_type": "code",
   "execution_count": 13,
   "metadata": {},
   "outputs": [
    {
     "name": "stdout",
     "output_type": "stream",
     "text": [
      "+----------+------------------+-----+\n",
      "|Station_ID|               avg|  max|\n",
      "+----------+------------------+-----+\n",
      "|      SF37| 2.260403505500663|7.079|\n",
      "|      SF15|1.8214145677504483| 7.92|\n",
      "|      SF04| 2.300981748124102| 9.92|\n",
      "|      SF17|0.5183500253485376|5.767|\n",
      "|      SF18|2.2202234391695437| 9.85|\n",
      "|      SF36| 2.464172530911313| 9.71|\n",
      "+----------+------------------+-----+\n",
      "\n"
     ]
    }
   ],
   "source": [
    "spark.sql(\"SELECT Station_ID, avg(Wind_Velocity_Mtr_Sec) as avg,max(Wind_Velocity_Mtr_Sec) as max from wind group by Station_ID\").show()"
   ]
  },
  {
   "cell_type": "code",
   "execution_count": 14,
   "metadata": {},
   "outputs": [],
   "source": [
    "pan=df.toPandas()"
   ]
  },
  {
   "cell_type": "code",
   "execution_count": 15,
   "metadata": {},
   "outputs": [
    {
     "data": {
      "text/html": [
       "<div>\n",
       "<style scoped>\n",
       "    .dataframe tbody tr th:only-of-type {\n",
       "        vertical-align: middle;\n",
       "    }\n",
       "\n",
       "    .dataframe tbody tr th {\n",
       "        vertical-align: top;\n",
       "    }\n",
       "\n",
       "    .dataframe thead th {\n",
       "        text-align: right;\n",
       "    }\n",
       "</style>\n",
       "<table border=\"1\" class=\"dataframe\">\n",
       "  <thead>\n",
       "    <tr style=\"text-align: right;\">\n",
       "      <th></th>\n",
       "      <th>Station_ID</th>\n",
       "      <th>Station_Name</th>\n",
       "      <th>Location_Label</th>\n",
       "      <th>Interval_Minutes</th>\n",
       "      <th>Interval_End_Time</th>\n",
       "      <th>Wind_Velocity_Mtr_Sec</th>\n",
       "      <th>Wind_Direction_Variance_Deg</th>\n",
       "      <th>Wind_Direction_Deg</th>\n",
       "      <th>Ambient_Temperature_Deg_C</th>\n",
       "      <th>Global_Horizontal_Irradiance</th>\n",
       "    </tr>\n",
       "  </thead>\n",
       "  <tbody>\n",
       "    <tr>\n",
       "      <th>0</th>\n",
       "      <td>SF15</td>\n",
       "      <td>Warnerville Switchyard, Oakdale</td>\n",
       "      <td>Warnerville</td>\n",
       "      <td>5</td>\n",
       "      <td>2015-01-5? 00:05</td>\n",
       "      <td>1.628</td>\n",
       "      <td>8.1</td>\n",
       "      <td>148.5</td>\n",
       "      <td>0.92</td>\n",
       "      <td>0.061</td>\n",
       "    </tr>\n",
       "    <tr>\n",
       "      <th>1</th>\n",
       "      <td>SF15</td>\n",
       "      <td>Warnerville Switchyard, Oakdale</td>\n",
       "      <td>Warnerville</td>\n",
       "      <td>5</td>\n",
       "      <td>2015-01-5? 00:10</td>\n",
       "      <td>1.519</td>\n",
       "      <td>9.4</td>\n",
       "      <td>151.1</td>\n",
       "      <td>0.717</td>\n",
       "      <td>0.064</td>\n",
       "    </tr>\n",
       "    <tr>\n",
       "      <th>2</th>\n",
       "      <td>SF15</td>\n",
       "      <td>Warnerville Switchyard, Oakdale</td>\n",
       "      <td>Warnerville</td>\n",
       "      <td>5</td>\n",
       "      <td>2015-01-5? 00:15</td>\n",
       "      <td>1.482</td>\n",
       "      <td>8.7</td>\n",
       "      <td>142.7</td>\n",
       "      <td>0.627</td>\n",
       "      <td>0.059</td>\n",
       "    </tr>\n",
       "    <tr>\n",
       "      <th>3</th>\n",
       "      <td>SF15</td>\n",
       "      <td>Warnerville Switchyard, Oakdale</td>\n",
       "      <td>Warnerville</td>\n",
       "      <td>5</td>\n",
       "      <td>2015-01-5? 00:20</td>\n",
       "      <td>1.985</td>\n",
       "      <td>6.895</td>\n",
       "      <td>141.8</td>\n",
       "      <td>0.5</td>\n",
       "      <td>0.062</td>\n",
       "    </tr>\n",
       "    <tr>\n",
       "      <th>4</th>\n",
       "      <td>SF15</td>\n",
       "      <td>Warnerville Switchyard, Oakdale</td>\n",
       "      <td>Warnerville</td>\n",
       "      <td>5</td>\n",
       "      <td>2015-01-5? 00:25</td>\n",
       "      <td>1.903</td>\n",
       "      <td>8.64</td>\n",
       "      <td>144.7</td>\n",
       "      <td>0.727</td>\n",
       "      <td>0.062</td>\n",
       "    </tr>\n",
       "  </tbody>\n",
       "</table>\n",
       "</div>"
      ],
      "text/plain": [
       "  Station_ID                     Station_Name Location_Label Interval_Minutes  \\\n",
       "0       SF15  Warnerville Switchyard, Oakdale    Warnerville                5   \n",
       "1       SF15  Warnerville Switchyard, Oakdale    Warnerville                5   \n",
       "2       SF15  Warnerville Switchyard, Oakdale    Warnerville                5   \n",
       "3       SF15  Warnerville Switchyard, Oakdale    Warnerville                5   \n",
       "4       SF15  Warnerville Switchyard, Oakdale    Warnerville                5   \n",
       "\n",
       "  Interval_End_Time Wind_Velocity_Mtr_Sec Wind_Direction_Variance_Deg  \\\n",
       "0  2015-01-5? 00:05                 1.628                         8.1   \n",
       "1  2015-01-5? 00:10                 1.519                         9.4   \n",
       "2  2015-01-5? 00:15                 1.482                         8.7   \n",
       "3  2015-01-5? 00:20                 1.985                       6.895   \n",
       "4  2015-01-5? 00:25                 1.903                        8.64   \n",
       "\n",
       "  Wind_Direction_Deg Ambient_Temperature_Deg_C Global_Horizontal_Irradiance  \n",
       "0              148.5                      0.92                        0.061  \n",
       "1              151.1                     0.717                        0.064  \n",
       "2              142.7                     0.627                        0.059  \n",
       "3              141.8                       0.5                        0.062  \n",
       "4              144.7                     0.727                        0.062  "
      ]
     },
     "execution_count": 15,
     "metadata": {},
     "output_type": "execute_result"
    }
   ],
   "source": [
    "pan.head()"
   ]
  },
  {
   "cell_type": "code",
   "execution_count": null,
   "metadata": {},
   "outputs": [],
   "source": []
  }
 ],
 "metadata": {
  "kernelspec": {
   "display_name": "Python 3",
   "language": "python",
   "name": "python3"
  },
  "language_info": {
   "codemirror_mode": {
    "name": "ipython",
    "version": 3
   },
   "file_extension": ".py",
   "mimetype": "text/x-python",
   "name": "python",
   "nbconvert_exporter": "python",
   "pygments_lexer": "ipython3",
   "version": "3.7.6"
  }
 },
 "nbformat": 4,
 "nbformat_minor": 4
}
