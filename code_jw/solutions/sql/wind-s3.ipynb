{
 "cells": [
  {
   "cell_type": "code",
   "execution_count": null,
   "metadata": {},
   "outputs": [],
   "source": [
    "# spark initialisation, needs to be done before later imports\n",
    "#import findspark\n",
    "#findspark.init()\n",
    "import pyspark\n",
    "sc=pyspark.SparkContext.getOrCreate()\n",
    "sc.setLogLevel('ERROR')\n",
    "\n",
    "#where the data is stored\n",
    "datafiles='s3a://discnet-big/wind2015/*.csv'\n",
    "\n",
    "#initialisation of spark sql session\n",
    "from pyspark.sql import Row, SparkSession\n",
    "spark = SparkSession.builder.getOrCreate()\n",
    "\n",
    "# read the wind data from CSV files\n",
    "df = spark.read.csv(datafiles, header=True)\n",
    "\n",
    "df.registerTempTable('wind')\n",
    "spark.sql(\"SELECT Station_ID, avg(Wind_Velocity_Mtr_Sec) as avg,max(Wind_Velocity_Mtr_Sec) as max from wind group by Station_ID\").show()"
   ]
  }
 ],
 "metadata": {
  "kernelspec": {
   "display_name": "Python 3",
   "language": "python",
   "name": "python3"
  },
  "language_info": {
   "codemirror_mode": {
    "name": "ipython",
    "version": 3
   },
   "file_extension": ".py",
   "mimetype": "text/x-python",
   "name": "python",
   "nbconvert_exporter": "python",
   "pygments_lexer": "ipython3",
   "version": "3.7.4"
  }
 },
 "nbformat": 4,
 "nbformat_minor": 2
}
